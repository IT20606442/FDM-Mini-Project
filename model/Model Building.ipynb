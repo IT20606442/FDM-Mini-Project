{
 "cells": [
  {
   "cell_type": "code",
   "execution_count": 2,
   "id": "ee0d266c",
   "metadata": {},
   "outputs": [
    {
     "name": "stdout",
     "output_type": "stream",
     "text": [
      "Collecting numpy\n",
      "  Downloading numpy-1.23.4-cp310-cp310-win_amd64.whl (14.6 MB)\n",
      "     -------------------------------------- 14.6/14.6 MB 763.2 kB/s eta 0:00:00\n",
      "Installing collected packages: numpy\n",
      "Successfully installed numpy-1.23.4\n",
      "Collecting pandas\n",
      "  Using cached pandas-1.5.0-cp310-cp310-win_amd64.whl (10.4 MB)\n",
      "Requirement already satisfied: python-dateutil>=2.8.1 in c:\\users\\pasindu senanayake\\desktop\\credit card approval prediction\\model\\env\\lib\\site-packages (from pandas) (2.8.2)\n",
      "Requirement already satisfied: numpy>=1.21.0 in c:\\users\\pasindu senanayake\\desktop\\credit card approval prediction\\model\\env\\lib\\site-packages (from pandas) (1.23.4)\n",
      "Collecting pytz>=2020.1\n",
      "  Downloading pytz-2022.4-py2.py3-none-any.whl (500 kB)\n",
      "     ------------------------------------ 500.8/500.8 kB 731.1 kB/s eta 0:00:00\n",
      "Requirement already satisfied: six>=1.5 in c:\\users\\pasindu senanayake\\desktop\\credit card approval prediction\\model\\env\\lib\\site-packages (from python-dateutil>=2.8.1->pandas) (1.16.0)\n",
      "Installing collected packages: pytz, pandas\n",
      "Successfully installed pandas-1.5.0 pytz-2022.4\n"
     ]
    }
   ],
   "source": [
    "!pip install numpy\n",
    "!pip install pandas"
   ]
  },
  {
   "cell_type": "code",
   "execution_count": 3,
   "id": "a10f1876",
   "metadata": {},
   "outputs": [],
   "source": [
    "import numpy as np\n",
    "import pandas as pd"
   ]
  },
  {
   "cell_type": "code",
   "execution_count": null,
   "id": "f45f85d9",
   "metadata": {},
   "outputs": [],
   "source": []
  }
 ],
 "metadata": {
  "kernelspec": {
   "display_name": "Python 3.10.5 64-bit",
   "language": "python",
   "name": "python3"
  },
  "language_info": {
   "codemirror_mode": {
    "name": "ipython",
    "version": 3
   },
   "file_extension": ".py",
   "mimetype": "text/x-python",
   "name": "python",
   "nbconvert_exporter": "python",
   "pygments_lexer": "ipython3",
   "version": "3.10.5"
  },
  "vscode": {
   "interpreter": {
    "hash": "167c27fbef304fbc8a1090e198819689110ce703c2d06457c5b3978cca494ca7"
   }
  }
 },
 "nbformat": 4,
 "nbformat_minor": 5
}
