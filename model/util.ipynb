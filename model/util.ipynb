{
 "cells": [
  {
   "cell_type": "code",
   "execution_count": 20,
   "metadata": {},
   "outputs": [],
   "source": [
    "import pickle\n",
    "import numpy as np"
   ]
  },
  {
   "cell_type": "code",
   "execution_count": 21,
   "metadata": {},
   "outputs": [
    {
     "name": "stdout",
     "output_type": "stream",
     "text": [
      "Requirement already satisfied: networkx in c:\\users\\pasindu senanayake\\appdata\\local\\programs\\python\\python310\\lib\\site-packages (2.8.7)\n"
     ]
    },
    {
     "name": "stderr",
     "output_type": "stream",
     "text": [
      "WARNING: You are using pip version 22.0.4; however, version 22.3 is available.\n",
      "You should consider upgrading via the 'C:\\Users\\Pasindu Senanayake\\AppData\\Local\\Programs\\Python\\Python310\\python.exe -m pip install --upgrade pip' command.\n"
     ]
    }
   ],
   "source": [
    "!pip install networkx"
   ]
  },
  {
   "cell_type": "code",
   "execution_count": 22,
   "metadata": {},
   "outputs": [],
   "source": [
    "import networkx as nx\n",
    "from matplotlib import pyplot as plt"
   ]
  },
  {
   "cell_type": "code",
   "execution_count": 23,
   "metadata": {},
   "outputs": [],
   "source": [
    "def recommend_product(item_list):\n",
    "    rules = pickle.load(open('rules.pkl', 'rb'))\n",
    "    rules['antecedent'] = rules['antecedents'].apply(lambda antecedent: list(antecedent))\n",
    "    rules['consequent'] = rules['consequents'].apply(lambda consequent: list(consequent))\n",
    "    rules['rule'] = rules.index\n",
    "    print(rules['antecedent'])\n",
    "\n",
    "    cons_list = []\n",
    "    for i in range(1, len(rules)):\n",
    "        check = all(item in (rules['antecedent'][i]) for item in item_list)\n",
    "        if check is True:\n",
    "            c_list = set(list(rules['consequents'])[i])\n",
    "            cons_list.append(c_list)\n",
    "    print(cons_list)\n",
    "    return cons_list"
   ]
  },
  {
   "cell_type": "code",
   "execution_count": 24,
   "metadata": {},
   "outputs": [],
   "source": [
    "def parallelPlot():\n",
    "    rules = pickle.load(open('rules.pkl', 'rb'))\n",
    "\n",
    "    rules['antecedent'] = rules['antecedents'].apply(lambda antecedent: list(antecedent)[0])\n",
    "    rules['consequent'] = rules['consequents'].apply(lambda consequent: list(consequent)[0])\n",
    "    rules['rule'] = rules.index\n",
    "    return rules[['antecedent', 'consequent', 'rule']]"
   ]
  },
  {
   "cell_type": "code",
   "execution_count": 25,
   "metadata": {},
   "outputs": [],
   "source": [
    "def rule_list():\n",
    "    rules = pickle.load(open('rules.pkl', 'rb'))\n",
    "    rules['antecedent'] = rules['antecedents'].apply(lambda antecedent: list(antecedent))\n",
    "    rules['consequent'] = rules['consequents'].apply(lambda consequent: list(consequent))\n",
    "    rules['rule'] = rules.index\n",
    "\n",
    "    return rules"
   ]
  },
  {
   "cell_type": "code",
   "execution_count": 26,
   "metadata": {},
   "outputs": [],
   "source": [
    "def networkPlotRule(item_list):\n",
    "    rules = pickle.load(open('rules.pkl', 'rb'))\n",
    "    rules['antecedent'] = rules['antecedents'].apply(lambda antecedent: list(antecedent))\n",
    "    rules['consequent'] = rules['consequents'].apply(lambda consequent: list(consequent))\n",
    "    rules['rule'] = rules.index\n",
    "    G1 = nx.DiGraph()\n",
    "\n",
    "    color_map=[]\n",
    "    N = len(rules)\n",
    "    colors = np.random.rand(N)\n",
    "    strs=['R0', 'R1', 'R2', 'R3', 'R4', 'R5', 'R6', 'R7', 'R8', 'R9', 'R10', 'R11','R12', 'R13', 'R14', 'R15', 'R16', 'R17', 'R18', 'R19', 'R20', 'R21', 'R22', 'R23','R24', 'R25', 'R26', 'R27', 'R28', 'R29', 'R30', 'R31', 'R32', 'R33', 'R34', 'R35','R36', 'R37']\n",
    "    for i in range (len(rules)):\n",
    "        j = 0\n",
    "        check = all(item in (rules['antecedent'][i]) for item in item_list)\n",
    "        if check is True:\n",
    "            G1.add_nodes_from([\"R\"+str(j)])\n",
    "        else:\n",
    "            continue\n",
    "\n",
    "        for a in rules.iloc[i]['antecedent']:\n",
    "            check = all(item in (rules['antecedent'][i]) for item in item_list)\n",
    "            if check is True:\n",
    "                G1.add_nodes_from([a])\n",
    "                G1.add_edge(a, \"R\"+str(j), color=colors[j] , weight = 2)\n",
    "            else:\n",
    "                continue\n",
    "\n",
    "        for c in rules.iloc[i]['consequents']:\n",
    "            check2 = all(item in (rules['antecedent'][i]) for item in item_list)\n",
    "            if check2 is True:\n",
    "                G1.add_nodes_from([c])\n",
    "                G1.add_edge(\"R\"+str(j), c, color=colors[j],  weight=2)\n",
    "            else:\n",
    "                continue\n",
    "        j += 1\n",
    "\n",
    "    for node in G1:\n",
    "        found_a_string = False\n",
    "        for item in strs:\n",
    "            if node==item:\n",
    "                found_a_string = True\n",
    "        if found_a_string:\n",
    "            color_map.append('yellow')\n",
    "        else:\n",
    "            color_map.append('green')\n",
    "\n",
    "    edges = G1.edges()\n",
    "    colors = [G1[u][v]['color'] for u,v in edges]\n",
    "    weights = [G1[u][v]['weight'] for u,v in edges]\n",
    "\n",
    "\n",
    "    pos = nx.spring_layout(G1, k=16, scale=1)\n",
    "    nx.draw(G1, pos,node_color = color_map, edge_color=colors, width=weights,font_color='white',with_labels=False)\n",
    "    for p in pos:  # raise text positions\n",
    "        pos[p][1] += 0.07\n",
    "    nx.draw_networkx_labels(G1, pos)\n",
    "    plt.title('NetworkX Plot')\n",
    "    plt.savefig('static/' + 'plot3.png', dpi=600, edgecolor=\"#04253a\")\n",
    "    plt.close()"
   ]
  }
 ],
 "metadata": {
  "kernelspec": {
   "display_name": "Python 3.10.5 64-bit",
   "language": "python",
   "name": "python3"
  },
  "language_info": {
   "codemirror_mode": {
    "name": "ipython",
    "version": 3
   },
   "file_extension": ".py",
   "mimetype": "text/x-python",
   "name": "python",
   "nbconvert_exporter": "python",
   "pygments_lexer": "ipython3",
   "version": "3.10.5"
  },
  "orig_nbformat": 4,
  "vscode": {
   "interpreter": {
    "hash": "167c27fbef304fbc8a1090e198819689110ce703c2d06457c5b3978cca494ca7"
   }
  }
 },
 "nbformat": 4,
 "nbformat_minor": 2
}
